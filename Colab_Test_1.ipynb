{
  "cells": [
    {
      "cell_type": "markdown",
      "metadata": {
        "id": "view-in-github",
        "colab_type": "text"
      },
      "source": [
        "<a href=\"https://colab.research.google.com/github/victorokhoya/Colab_Test/blob/main/Colab_Test_1.ipynb\" target=\"_parent\"><img src=\"https://colab.research.google.com/assets/colab-badge.svg\" alt=\"Open In Colab\"/></a>"
      ]
    },
    {
      "cell_type": "code",
      "execution_count": null,
      "metadata": {
        "id": "lbPCag77MTcm"
      },
      "outputs": [],
      "source": [
        "#This is going to be pushed to Github\n",
        "#Now we have added a new line.\n",
        "#This has now been edited in Colab.\n",
        "#And now it is being edited in GitHub Dev\n",
        "#Back to Google Colab. Opened from GitHub."
      ]
    }
  ],
  "metadata": {
    "colab": {
      "provenance": [],
      "include_colab_link": true
    },
    "kernelspec": {
      "display_name": "Python 3",
      "name": "python3"
    },
    "language_info": {
      "name": "python"
    }
  },
  "nbformat": 4,
  "nbformat_minor": 0
}